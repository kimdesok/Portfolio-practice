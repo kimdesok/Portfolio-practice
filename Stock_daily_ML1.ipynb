{
  "nbformat": 4,
  "nbformat_minor": 0,
  "metadata": {
    "colab": {
      "name": "Stock-daily-ML1.ipynb",
      "provenance": [],
      "collapsed_sections": [],
      "mount_file_id": "1g18n3jiQxgmumyyh8n07XscdU8VIjflJ",
      "authorship_tag": "ABX9TyPll+JRweFWwu0u1yfVQXRZ",
      "include_colab_link": true
    },
    "kernelspec": {
      "name": "python3",
      "display_name": "Python 3"
    },
    "language_info": {
      "name": "python"
    }
  },
  "cells": [
    {
      "cell_type": "markdown",
      "metadata": {
        "id": "view-in-github",
        "colab_type": "text"
      },
      "source": [
        "<a href=\"https://colab.research.google.com/github/kimdesok/kimdesok.github.io/blob/main/Stock_daily_ML1.ipynb\" target=\"_parent\"><img src=\"https://colab.research.google.com/assets/colab-badge.svg\" alt=\"Open In Colab\"/></a>"
      ]
    },
    {
      "cell_type": "code",
      "metadata": {
        "id": "84xPUVdyLTz-",
        "colab": {
          "base_uri": "https://localhost:8080/"
        },
        "outputId": "ecda05ff-fd96-43f9-cff9-ddbf38ad9151"
      },
      "source": [
        "!sudo apt-get install -y fonts-nanum\n",
        "!sudo fc-cache -fv\n",
        "!rm ~/.cache/matplotlib -rf"
      ],
      "execution_count": 10,
      "outputs": [
        {
          "output_type": "stream",
          "text": [
            "Reading package lists... Done\n",
            "Building dependency tree       \n",
            "Reading state information... Done\n",
            "fonts-nanum is already the newest version (20170925-1).\n",
            "0 upgraded, 0 newly installed, 0 to remove and 40 not upgraded.\n",
            "/usr/share/fonts: caching, new cache contents: 0 fonts, 1 dirs\n",
            "/usr/share/fonts/truetype: caching, new cache contents: 0 fonts, 3 dirs\n",
            "/usr/share/fonts/truetype/humor-sans: caching, new cache contents: 1 fonts, 0 dirs\n",
            "/usr/share/fonts/truetype/liberation: caching, new cache contents: 16 fonts, 0 dirs\n",
            "/usr/share/fonts/truetype/nanum: caching, new cache contents: 10 fonts, 0 dirs\n",
            "/usr/local/share/fonts: caching, new cache contents: 0 fonts, 0 dirs\n",
            "/root/.local/share/fonts: skipping, no such directory\n",
            "/root/.fonts: skipping, no such directory\n",
            "/var/cache/fontconfig: cleaning cache directory\n",
            "/root/.cache/fontconfig: not cleaning non-existent cache directory\n",
            "/root/.fontconfig: not cleaning non-existent cache directory\n",
            "fc-cache: succeeded\n"
          ],
          "name": "stdout"
        }
      ]
    },
    {
      "cell_type": "code",
      "metadata": {
        "id": "GzjxpvBsZL-P"
      },
      "source": [
        "import urllib\n",
        "import time\n",
        "import matplotlib.pyplot as plt\n",
        "import pandas as pd\n",
        "import numpy as np\n",
        " \n",
        "from urllib.request import urlopen"
      ],
      "execution_count": 1,
      "outputs": []
    },
    {
      "cell_type": "code",
      "metadata": {
        "id": "ILYQCneHewLp"
      },
      "source": [
        "#KOSPI code + stock name\n",
        "stock_type = {\n",
        "    'kospi': 'stockMkt',\n",
        "    'kosdaq': 'kosdaqMkt'\n",
        "}\n",
        "\n",
        "def get_code(df, names):\n",
        "  codes = list()\n",
        "  for name in names:\n",
        "    code = df.query(\"name=='{}'\".format(name))['code'].to_string(index=False)\n",
        "    code = code.strip()\n",
        "    codes.append(code)\n",
        "  return codes\n",
        "\n",
        "def get_download_stock(market_type=None):\n",
        "  market_type_param = stock_type[market_type]\n",
        "  download_link = 'http://kind.krx.co.kr/corpgeneral/corpList.do'\n",
        "  download_link = download_link + '?method=download'\n",
        "  download_link = download_link + '&marketType=' + market_type_param\n",
        "\n",
        "  df = pd.read_html(download_link, header=0)[0]\n",
        "  return df;\n",
        "\n",
        "def get_download_kospi():\n",
        "  df = get_download_stock('kospi')\n",
        "  df.종목코드 = df.종목코드.map('{:06d}'.format)\n",
        "  return df\n",
        "\n",
        "def get_download_kosdaq():\n",
        "  df = get_download_stock('kosdaq')\n",
        "  df.종목코드 = df.종목코드.map('{:06d}'.format)\n",
        "  return df\n",
        "\n",
        "kospi_df = get_download_kospi()\n",
        "kosdaq_df = get_download_kosdaq()\n",
        "\n"
      ],
      "execution_count": 2,
      "outputs": []
    },
    {
      "cell_type": "code",
      "metadata": {
        "colab": {
          "base_uri": "https://localhost:8080/"
        },
        "id": "DSzEzLGofX9S",
        "outputId": "466fe3c0-f85f-478d-c40c-2970f8b0571a"
      },
      "source": [
        "code_df = pd.concat([kospi_df, kosdaq_df])\n",
        "print(code_df.head())\n",
        "\n",
        "code_df = code_df[['회사명', '종목코드']]\n",
        "\n",
        "# data frame title 변경 '회사명' = name, 종목코드 = 'code'\n",
        "code_df = code_df.rename(columns={'회사명': 'name', '종목코드': 'code'})\n"
      ],
      "execution_count": 3,
      "outputs": [
        {
          "output_type": "stream",
          "text": [
            "         회사명    종목코드           업종  ...      대표자명                    홈페이지     지역\n",
            "0      DRB동일  004840     고무제품 제조업  ...       류영식     http://drbworld.com  부산광역시\n",
            "1        DSR  155660  1차 비철금속 제조업  ...       홍석빈      http://www.dsr.com  부산광역시\n",
            "2      GS글로벌  001250    상품 종합 도매업  ...       김태형  http://www.gsgcorp.com  서울특별시\n",
            "3  HDC현대산업개발  294870       건물 건설업  ...  권순호, 정경구  http://www.hdc-dvp.com  서울특별시\n",
            "4        KEC  092220      반도체 제조업  ...   박남규 김학남    http://www.kec.co.kr  서울특별시\n",
            "\n",
            "[5 rows x 9 columns]\n"
          ],
          "name": "stdout"
        }
      ]
    },
    {
      "cell_type": "code",
      "metadata": {
        "id": "eQkz1AT2PCa8",
        "colab": {
          "base_uri": "https://localhost:8080/"
        },
        "outputId": "b287f88f-7fef-4592-d05b-e6fbf2b32ef7"
      },
      "source": [
        "!git clone \"https://github.com/FinanceData/marcap.git\" marcap"
      ],
      "execution_count": null,
      "outputs": [
        {
          "output_type": "stream",
          "text": [
            "Cloning into 'marcap'...\n",
            "remote: Enumerating objects: 945, done.\u001b[K\n",
            "remote: Counting objects: 100% (68/68), done.\u001b[K\n",
            "remote: Compressing objects: 100% (23/23), done.\u001b[K\n",
            "remote: Total 945 (delta 48), reused 65 (delta 45), pack-reused 877\u001b[K\n",
            "Receiving objects: 100% (945/945), 2.12 GiB | 41.54 MiB/s, done.\n",
            "Resolving deltas: 100% (554/554), done.\n",
            "Checking out files: 100% (39/39), done.\n"
          ],
          "name": "stdout"
        }
      ]
    },
    {
      "cell_type": "code",
      "metadata": {
        "id": "G-GErZTAiTCo"
      },
      "source": [
        "#!ls -lh marcap/data \n",
        "!cp -r marcap '/content/drive/MyDrive/marcap'"
      ],
      "execution_count": 18,
      "outputs": []
    },
    {
      "cell_type": "code",
      "metadata": {
        "id": "OjnRSGtmI_XQ",
        "colab": {
          "base_uri": "https://localhost:8080/"
        },
        "outputId": "2543dbaa-0bc8-4744-99f1-ac439ebec21e"
      },
      "source": [
        "from marcap import marcap_data\n",
        "from datetime import date\n",
        "today = date.today()\n",
        "\n",
        "#Select dates\n",
        "start_date = '2018-01-01'\n",
        "stock_data = marcap_data(start_date, today)\n",
        "#print(stock_data[['Code', 'Name', 'Open', 'High', 'Low', 'Close', 'Volume']].tail(10))\n",
        "\n",
        "#For this exercise, we need two dataframes\n",
        "lng_df = stock_data[stock_data['Name'] == '피씨엘']\n",
        "spy_df = stock_data[stock_data['Name'] == '이아이디']\n",
        "\n",
        "#print(lng_df[['Code', 'Name', 'Open', 'High', 'Low', 'Close', 'Volume']])\n",
        "#print(spy_df[['Code', 'Name', 'Open', 'High', 'Low', 'Close', 'Volume']])\n",
        "\n",
        "print(lng_df.info())\n",
        "print(spy_df.info())"
      ],
      "execution_count": 19,
      "outputs": [
        {
          "output_type": "stream",
          "text": [
            "<class 'pandas.core.frame.DataFrame'>\n",
            "DatetimeIndex: 886 entries, 2018-01-02 to 2021-08-04\n",
            "Data columns (total 17 columns):\n",
            " #   Column       Non-Null Count  Dtype  \n",
            "---  ------       --------------  -----  \n",
            " 0   Code         886 non-null    object \n",
            " 1   Name         886 non-null    object \n",
            " 2   Market       886 non-null    object \n",
            " 3   Dept         886 non-null    object \n",
            " 4   Close        886 non-null    int64  \n",
            " 5   ChangeCode   886 non-null    object \n",
            " 6   Changes      886 non-null    int64  \n",
            " 7   ChagesRatio  886 non-null    float64\n",
            " 8   Open         886 non-null    int64  \n",
            " 9   High         886 non-null    int64  \n",
            " 10  Low          886 non-null    int64  \n",
            " 11  Volume       886 non-null    int64  \n",
            " 12  Amount       886 non-null    int64  \n",
            " 13  Marcap       886 non-null    int64  \n",
            " 14  Stocks       886 non-null    int64  \n",
            " 15  MarketId     886 non-null    object \n",
            " 16  Rank         886 non-null    int64  \n",
            "dtypes: float64(1), int64(10), object(6)\n",
            "memory usage: 124.6+ KB\n",
            "None\n",
            "<class 'pandas.core.frame.DataFrame'>\n",
            "DatetimeIndex: 885 entries, 2018-01-02 to 2021-08-04\n",
            "Data columns (total 17 columns):\n",
            " #   Column       Non-Null Count  Dtype  \n",
            "---  ------       --------------  -----  \n",
            " 0   Code         885 non-null    object \n",
            " 1   Name         885 non-null    object \n",
            " 2   Market       885 non-null    object \n",
            " 3   Dept         0 non-null      object \n",
            " 4   Close        885 non-null    int64  \n",
            " 5   ChangeCode   885 non-null    object \n",
            " 6   Changes      885 non-null    int64  \n",
            " 7   ChagesRatio  885 non-null    float64\n",
            " 8   Open         885 non-null    int64  \n",
            " 9   High         885 non-null    int64  \n",
            " 10  Low          885 non-null    int64  \n",
            " 11  Volume       885 non-null    int64  \n",
            " 12  Amount       885 non-null    int64  \n",
            " 13  Marcap       885 non-null    int64  \n",
            " 14  Stocks       885 non-null    int64  \n",
            " 15  MarketId     885 non-null    object \n",
            " 16  Rank         885 non-null    int64  \n",
            "dtypes: float64(1), int64(10), object(6)\n",
            "memory usage: 124.5+ KB\n",
            "None\n"
          ],
          "name": "stdout"
        }
      ]
    },
    {
      "cell_type": "code",
      "metadata": {
        "id": "XIemA0PZNvO2",
        "colab": {
          "base_uri": "https://localhost:8080/"
        },
        "outputId": "678c213e-d0fe-4103-9a3c-7cc71cd9d06d"
      },
      "source": [
        "#Data transform using the close price\n",
        "#price_data = stock_data.pivot_table(index='Date', columns='Code', values=['Close', 'Volume'])\n",
        "lng_df = lng_df.pivot_table(index='Date', values=['Close', 'Volume'])\n",
        "lng_df.columns = ['Adj_Close', 'Adj_Volume']\n",
        "print(lng_df.tail())\n",
        "spy_df = spy_df.pivot_table(index='Date', values=['Close', 'Volume'])\n",
        "spy_df.columns = ['Adj_Close', 'Adj_Volume']\n",
        "print(spy_df.tail())"
      ],
      "execution_count": 20,
      "outputs": [
        {
          "output_type": "stream",
          "text": [
            "            Adj_Close  Adj_Volume\n",
            "Date                             \n",
            "2021-07-29      54900     1233905\n",
            "2021-07-30      51700      351393\n",
            "2021-08-02      49100      112441\n",
            "2021-08-03      47900       96858\n",
            "2021-08-04      49900      190980\n",
            "            Adj_Close  Adj_Volume\n",
            "Date                             \n",
            "2021-07-29        542    14316823\n",
            "2021-07-30        530    20461810\n",
            "2021-08-02        538    23267012\n",
            "2021-08-03        516    24302227\n",
            "2021-08-04        527    49134545\n"
          ],
          "name": "stdout"
        }
      ]
    },
    {
      "cell_type": "code",
      "metadata": {
        "id": "ZWtxzVeqcbcO"
      },
      "source": [
        "#한글 폰트 지정\n",
        "plt.rc('font', family='NanumBarunGothic') "
      ],
      "execution_count": 8,
      "outputs": []
    },
    {
      "cell_type": "code",
      "metadata": {
        "id": "C5a5lasvW1lv",
        "colab": {
          "base_uri": "https://localhost:8080/",
          "height": 886
        },
        "outputId": "94e6dc36-bb76-4f39-fe00-ce48b3a42bee"
      },
      "source": [
        "spy_df['Adj_Close'].plot(label='EID', legend=True)\n",
        "lng_df['Adj_Close'].plot(label=\"PCL\", legend=True, secondary_y=True)\n",
        "#plt.ylabel('피씨엘 종가')\n",
        "plt.show()  # show the plot\n",
        "\n",
        "\n",
        "# Histogram of the daily price change percent of Adj_Close for LNG\n",
        "lng_df['Adj_Close'].pct_change().plot.hist(bins=50)\n",
        "plt.xlabel('피씨엘 종가의 일일 퍼센티지 변화')\n",
        "plt.show()\n",
        "\n",
        "spy_df['Adj_Close'].pct_change().plot.hist(bins=50)\n",
        "plt.xlabel('이아이디 종가의 일일 퍼센티지 변화')\n",
        "plt.show()\n",
        "\n",
        "plt.clf()  # clear the plot space"
      ],
      "execution_count": 21,
      "outputs": [
        {
          "output_type": "display_data",
          "data": {
            "image/png": "[encoded data removed]",
            "text/plain": [
              "<Figure size 432x288 with 2 Axes>"
            ]
          },
          "metadata": {
            "tags": [],
            "needs_background": "light"
          }
        },
        {
          "output_type": "stream",
          "text": [
            "/usr/local/lib/python3.7/dist-packages/matplotlib/backends/backend_agg.py:214: RuntimeWarning: Glyph 8722 missing from current font.\n",
            "  font.set_text(s, 0.0, flags=flags)\n",
            "/usr/local/lib/python3.7/dist-packages/matplotlib/backends/backend_agg.py:183: RuntimeWarning: Glyph 8722 missing from current font.\n",
            "  font.set_text(s, 0, flags=flags)\n"
          ],
          "name": "stderr"
        },
        {
          "output_type": "display_data",
          "data": {
            "image/png": "[encoded data removed]",
            "text/plain": [
              "<Figure size 432x288 with 1 Axes>"
            ]
          },
          "metadata": {
            "tags": [],
            "needs_background": "light"
          }
        },
        {
          "output_type": "display_data",
          "data": {
            "image/png": "[encoded data removed]",
            "text/plain": [
              "<Figure size 432x288 with 1 Axes>"
            ]
          },
          "metadata": {
            "tags": [],
            "needs_background": "light"
          }
        },
        {
          "output_type": "display_data",
          "data": {
            "text/plain": [
              "<Figure size 432x288 with 0 Axes>"
            ]
          },
          "metadata": {
            "tags": []
          }
        }
      ]
    },
    {
      "cell_type": "code",
      "metadata": {
        "colab": {
          "base_uri": "https://localhost:8080/",
          "height": 384
        },
        "id": "tVQMZXgugucR",
        "outputId": "4bba7a05-cde8-4cce-e651-93f6fcef538b"
      },
      "source": [
        "# Create 5-day % changes of Adj_Close for the current day, and 5 days in the future\n",
        "lng_df['5d_future_close'] = lng_df['Adj_Close'].shift(-5)\n",
        "lng_df['5d_close_future_pct'] = lng_df['5d_future_close'].pct_change(5)\n",
        "lng_df['5d_close_pct'] = lng_df['Adj_Close'].pct_change(5)\n",
        "\n",
        "# Calculate the correlation matrix between the 5d close pecentage changes (current and future)\n",
        "corr = lng_df[['5d_close_pct', '5d_close_future_pct']].corr()\n",
        "print(corr)\n",
        "\n",
        "# Scatter the current 5-day percent change vs the future 5-day percent change\n",
        "plt.scatter(lng_df['5d_close_pct'], lng_df['5d_close_future_pct'])\n",
        "plt.show()"
      ],
      "execution_count": 22,
      "outputs": [
        {
          "output_type": "stream",
          "text": [
            "                     5d_close_pct  5d_close_future_pct\n",
            "5d_close_pct             1.000000            -0.026268\n",
            "5d_close_future_pct     -0.026268             1.000000\n"
          ],
          "name": "stdout"
        },
        {
          "output_type": "stream",
          "text": [
            "/usr/local/lib/python3.7/dist-packages/matplotlib/backends/backend_agg.py:214: RuntimeWarning: Glyph 8722 missing from current font.\n",
            "  font.set_text(s, 0.0, flags=flags)\n",
            "/usr/local/lib/python3.7/dist-packages/matplotlib/backends/backend_agg.py:183: RuntimeWarning: Glyph 8722 missing from current font.\n",
            "  font.set_text(s, 0, flags=flags)\n"
          ],
          "name": "stderr"
        },
        {
          "output_type": "display_data",
          "data": {
            "image/png": "[encoded data removed]",
            "text/plain": [
              "<Figure size 432x288 with 1 Axes>"
            ]
          },
          "metadata": {
            "tags": [],
            "needs_background": "light"
          }
        }
      ]
    },
    {
      "cell_type": "code",
      "metadata": {
        "id": "ubdAGUGChXKv"
      },
      "source": [
        "feature_names = ['5d_close_pct']  # a list of the feature names for later\n",
        "\n",
        "# Create moving averages and rsi for timeperiods of 14, 30, 50, and 200\n",
        "for n in [14, 30, 50, 200]:\n",
        "\n",
        "    # Create the moving average indicator and divide by Adj_Close\n",
        "    lng_df['ma' + str(n)] = talib.SMA(lng_df['Adj_Close'].values,\n",
        "                              timeperiod=n) / lng_df['Adj_Close']\n",
        "    # Create the RSI indicator\n",
        "    lng_df['rsi' + str(n)] = talib.RSI(lng_df['Adj_Close'].values, timeperiod=n)\n",
        "    \n",
        "    # Add rsi and moving average to the feature name list\n",
        "    feature_names = feature_names + ['ma' + str(n), 'rsi' + str(n)]\n",
        "\n",
        "print(feature_names)"
      ],
      "execution_count": null,
      "outputs": []
    },
    {
      "cell_type": "markdown",
      "metadata": {
        "id": "biuB_173tNqI"
      },
      "source": [
        ""
      ]
    }
  ]
}